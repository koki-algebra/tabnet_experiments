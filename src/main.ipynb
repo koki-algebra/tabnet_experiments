{
 "cells": [
  {
   "cell_type": "code",
   "execution_count": 23,
   "metadata": {},
   "outputs": [],
   "source": [
    "import os\n",
    "import torch\n",
    "import numpy as np\n",
    "from sklearn.metrics import roc_auc_score\n",
    "import matplotlib.pyplot as plt\n",
    "%matplotlib inline\n",
    "\n",
    "from pytorch_tabnet.pretraining import TabNetPretrainer\n",
    "from pytorch_tabnet.tab_model import TabNetClassifier\n",
    "\n",
    "from utils import get_dataset"
   ]
  },
  {
   "cell_type": "code",
   "execution_count": 24,
   "metadata": {},
   "outputs": [],
   "source": [
    "# get dataset, categorical indices, dimensions\n",
    "dataset, cat_idxs, cat_dims = get_dataset(dataset_path=\"./data/uci_income/adult.csv\", target=\"salary\", train_size=0.8)\n",
    "dataset_name = \"UCI Income dataset\""
   ]
  },
  {
   "cell_type": "code",
   "execution_count": 25,
   "metadata": {},
   "outputs": [],
   "source": [
    "X_train, y_train = dataset[\"train\"]\n",
    "X_valid, y_valid = dataset[\"valid\"]\n",
    "X_test,  y_test  = dataset[\"test\"]"
   ]
  },
  {
   "cell_type": "markdown",
   "metadata": {},
   "source": [
    "### Network parameters"
   ]
  },
  {
   "cell_type": "code",
   "execution_count": 26,
   "metadata": {},
   "outputs": [
    {
     "name": "stdout",
     "output_type": "stream",
     "text": [
      "Device used : cuda\n"
     ]
    }
   ],
   "source": [
    "unsupervised_model = TabNetPretrainer(\n",
    "    cat_idxs=cat_idxs,\n",
    "    cat_dims=cat_dims,\n",
    "    cat_emb_dim=3,\n",
    "    optimizer_fn=torch.optim.Adam,\n",
    "    optimizer_params=dict(lr=2e-2),\n",
    "    mask_type=\"entmax\", # sparsemax\n",
    "    n_shared=1,\n",
    "    n_independent=1\n",
    ")"
   ]
  },
  {
   "cell_type": "markdown",
   "metadata": {},
   "source": [
    "### Self-Supervised Learning"
   ]
  },
  {
   "cell_type": "code",
   "execution_count": 27,
   "metadata": {},
   "outputs": [
    {
     "name": "stdout",
     "output_type": "stream",
     "text": [
      "epoch 0  | loss: 2.89294 | val_0_unsup_loss: 1.36901 |  0:00:00s\n",
      "epoch 1  | loss: 1.15364 | val_0_unsup_loss: 1.12282 |  0:00:01s\n",
      "epoch 2  | loss: 1.08985 | val_0_unsup_loss: 1.07952 |  0:00:01s\n",
      "epoch 3  | loss: 1.07249 | val_0_unsup_loss: 1.05897 |  0:00:02s\n",
      "epoch 4  | loss: 1.06313 | val_0_unsup_loss: 1.03735 |  0:00:02s\n",
      "epoch 5  | loss: 1.05524 | val_0_unsup_loss: 1.01068 |  0:00:03s\n",
      "epoch 6  | loss: 1.04362 | val_0_unsup_loss: 0.98924 |  0:00:03s\n",
      "epoch 7  | loss: 1.0261  | val_0_unsup_loss: 0.95982 |  0:00:04s\n",
      "epoch 8  | loss: 1.0034  | val_0_unsup_loss: 0.93614 |  0:00:04s\n",
      "epoch 9  | loss: 0.97647 | val_0_unsup_loss: 0.89541 |  0:00:05s\n",
      "epoch 10 | loss: 0.95425 | val_0_unsup_loss: 0.86489 |  0:00:05s\n",
      "epoch 11 | loss: 0.93312 | val_0_unsup_loss: 0.82722 |  0:00:06s\n",
      "epoch 12 | loss: 0.91471 | val_0_unsup_loss: 0.78851 |  0:00:06s\n",
      "epoch 13 | loss: 0.89636 | val_0_unsup_loss: 0.77488 |  0:00:07s\n",
      "epoch 14 | loss: 0.8771  | val_0_unsup_loss: 0.75775 |  0:00:07s\n",
      "epoch 15 | loss: 0.86817 | val_0_unsup_loss: 0.74612 |  0:00:08s\n",
      "epoch 16 | loss: 0.85675 | val_0_unsup_loss: 0.73751 |  0:00:08s\n",
      "epoch 17 | loss: 0.84414 | val_0_unsup_loss: 0.73025 |  0:00:09s\n",
      "epoch 18 | loss: 0.83844 | val_0_unsup_loss: 0.71548 |  0:00:10s\n",
      "epoch 19 | loss: 0.83234 | val_0_unsup_loss: 0.69541 |  0:00:10s\n",
      "epoch 20 | loss: 0.81717 | val_0_unsup_loss: 0.68573 |  0:00:11s\n",
      "epoch 21 | loss: 0.80728 | val_0_unsup_loss: 0.66613 |  0:00:11s\n",
      "epoch 22 | loss: 0.7936  | val_0_unsup_loss: 0.63864 |  0:00:12s\n",
      "epoch 23 | loss: 0.78576 | val_0_unsup_loss: 0.62341 |  0:00:12s\n",
      "epoch 24 | loss: 0.77684 | val_0_unsup_loss: 0.60358 |  0:00:13s\n",
      "epoch 25 | loss: 0.77083 | val_0_unsup_loss: 0.58291 |  0:00:13s\n",
      "epoch 26 | loss: 0.76012 | val_0_unsup_loss: 0.5688  |  0:00:14s\n",
      "epoch 27 | loss: 0.75463 | val_0_unsup_loss: 0.56521 |  0:00:14s\n",
      "epoch 28 | loss: 0.74673 | val_0_unsup_loss: 0.55795 |  0:00:15s\n",
      "epoch 29 | loss: 0.74482 | val_0_unsup_loss: 0.54643 |  0:00:15s\n",
      "epoch 30 | loss: 0.73801 | val_0_unsup_loss: 0.53351 |  0:00:16s\n",
      "epoch 31 | loss: 0.73278 | val_0_unsup_loss: 0.52483 |  0:00:16s\n",
      "epoch 32 | loss: 0.72734 | val_0_unsup_loss: 0.5306  |  0:00:17s\n",
      "epoch 33 | loss: 0.72482 | val_0_unsup_loss: 0.51668 |  0:00:17s\n",
      "epoch 34 | loss: 0.72348 | val_0_unsup_loss: 0.50598 |  0:00:18s\n",
      "epoch 35 | loss: 0.71686 | val_0_unsup_loss: 0.50347 |  0:00:18s\n",
      "epoch 36 | loss: 0.71258 | val_0_unsup_loss: 0.5008  |  0:00:19s\n",
      "epoch 37 | loss: 0.71057 | val_0_unsup_loss: 0.4953  |  0:00:20s\n",
      "epoch 38 | loss: 0.70716 | val_0_unsup_loss: 0.49667 |  0:00:20s\n",
      "epoch 39 | loss: 0.70379 | val_0_unsup_loss: 0.49292 |  0:00:21s\n",
      "epoch 40 | loss: 0.70296 | val_0_unsup_loss: 0.48356 |  0:00:21s\n",
      "epoch 41 | loss: 0.69681 | val_0_unsup_loss: 0.4868  |  0:00:22s\n",
      "epoch 42 | loss: 0.69483 | val_0_unsup_loss: 0.47498 |  0:00:22s\n",
      "epoch 43 | loss: 0.68879 | val_0_unsup_loss: 0.47608 |  0:00:23s\n",
      "epoch 44 | loss: 0.68928 | val_0_unsup_loss: 0.46602 |  0:00:23s\n",
      "epoch 45 | loss: 0.68001 | val_0_unsup_loss: 0.46265 |  0:00:24s\n",
      "epoch 46 | loss: 0.68051 | val_0_unsup_loss: 0.44826 |  0:00:24s\n",
      "epoch 47 | loss: 0.67522 | val_0_unsup_loss: 0.43541 |  0:00:25s\n",
      "epoch 48 | loss: 0.65559 | val_0_unsup_loss: 0.38858 |  0:00:25s\n",
      "epoch 49 | loss: 0.64626 | val_0_unsup_loss: 0.37904 |  0:00:26s\n",
      "epoch 50 | loss: 0.63701 | val_0_unsup_loss: 0.3697  |  0:00:27s\n",
      "epoch 51 | loss: 0.63896 | val_0_unsup_loss: 0.35796 |  0:00:27s\n",
      "epoch 52 | loss: 0.62947 | val_0_unsup_loss: 0.35272 |  0:00:28s\n",
      "epoch 53 | loss: 0.62292 | val_0_unsup_loss: 0.34768 |  0:00:28s\n",
      "epoch 54 | loss: 0.6199  | val_0_unsup_loss: 0.35533 |  0:00:29s\n",
      "epoch 55 | loss: 0.62166 | val_0_unsup_loss: 0.3452  |  0:00:29s\n",
      "epoch 56 | loss: 0.61083 | val_0_unsup_loss: 0.34071 |  0:00:30s\n",
      "epoch 57 | loss: 0.60983 | val_0_unsup_loss: 0.33794 |  0:00:30s\n",
      "epoch 58 | loss: 0.60786 | val_0_unsup_loss: 0.32824 |  0:00:31s\n",
      "epoch 59 | loss: 0.60183 | val_0_unsup_loss: 0.3417  |  0:00:31s\n",
      "epoch 60 | loss: 0.59762 | val_0_unsup_loss: 0.35113 |  0:00:32s\n",
      "epoch 61 | loss: 0.59016 | val_0_unsup_loss: 0.32004 |  0:00:32s\n",
      "epoch 62 | loss: 0.58861 | val_0_unsup_loss: 0.33705 |  0:00:33s\n",
      "epoch 63 | loss: 0.60365 | val_0_unsup_loss: 0.32021 |  0:00:33s\n",
      "epoch 64 | loss: 0.58956 | val_0_unsup_loss: 0.31141 |  0:00:34s\n",
      "epoch 65 | loss: 0.57914 | val_0_unsup_loss: 0.29795 |  0:00:34s\n",
      "epoch 66 | loss: 0.58238 | val_0_unsup_loss: 0.28909 |  0:00:35s\n",
      "epoch 67 | loss: 0.58667 | val_0_unsup_loss: 0.29693 |  0:00:35s\n",
      "epoch 68 | loss: 0.58494 | val_0_unsup_loss: 0.28586 |  0:00:36s\n",
      "epoch 69 | loss: 0.57733 | val_0_unsup_loss: 0.28362 |  0:00:36s\n",
      "epoch 70 | loss: 0.57778 | val_0_unsup_loss: 0.26187 |  0:00:37s\n",
      "epoch 71 | loss: 0.57378 | val_0_unsup_loss: 0.26252 |  0:00:38s\n",
      "epoch 72 | loss: 0.57791 | val_0_unsup_loss: 0.29232 |  0:00:38s\n",
      "epoch 73 | loss: 0.57435 | val_0_unsup_loss: 0.29955 |  0:00:39s\n",
      "epoch 74 | loss: 0.57488 | val_0_unsup_loss: 0.28545 |  0:00:39s\n",
      "epoch 75 | loss: 0.57606 | val_0_unsup_loss: 0.27365 |  0:00:40s\n",
      "\n",
      "Early stopping occurred at epoch 75 with best_epoch = 70 and best_val_0_unsup_loss = 0.26187\n",
      "Best weights from best epoch are automatically used!\n"
     ]
    }
   ],
   "source": [
    "max_epochs = 1000 if not os.getenv(\"CI\", False) else 2\n",
    "\n",
    "unsupervised_model.fit(\n",
    "    X_train=X_train,\n",
    "    eval_set=[X_valid],\n",
    "    max_epochs=max_epochs,\n",
    "    patience=5,\n",
    "    batch_size=2048,\n",
    "    virtual_batch_size=128,\n",
    "    num_workers=0,\n",
    "    drop_last=False,\n",
    "    pretraining_ratio=0.8\n",
    ")"
   ]
  },
  {
   "cell_type": "code",
   "execution_count": 28,
   "metadata": {},
   "outputs": [],
   "source": [
    "# Make reconstruction from a dataset\n",
    "reconstructed_X, embedded_X = unsupervised_model.predict(X_valid)\n",
    "assert(reconstructed_X.shape == embedded_X.shape)"
   ]
  },
  {
   "cell_type": "code",
   "execution_count": 29,
   "metadata": {},
   "outputs": [],
   "source": [
    "unsupervised_explain_matrix, unsupervised_masks = unsupervised_model.explain(X_valid)"
   ]
  },
  {
   "cell_type": "markdown",
   "metadata": {},
   "source": [
    "### Save model"
   ]
  },
  {
   "cell_type": "code",
   "execution_count": 30,
   "metadata": {},
   "outputs": [
    {
     "name": "stdout",
     "output_type": "stream",
     "text": [
      "Successfully saved model at ./models/uci_income/test_pretrain.zip\n"
     ]
    },
    {
     "data": {
      "text/plain": [
       "'./models/uci_income/test_pretrain.zip'"
      ]
     },
     "execution_count": 30,
     "metadata": {},
     "output_type": "execute_result"
    }
   ],
   "source": [
    "# save model\n",
    "unsupervised_model.save_model('./models/uci_income/test_pretrain')"
   ]
  },
  {
   "cell_type": "code",
   "execution_count": 31,
   "metadata": {},
   "outputs": [
    {
     "name": "stdout",
     "output_type": "stream",
     "text": [
      "Device used : cuda\n",
      "Device used : cuda\n"
     ]
    }
   ],
   "source": [
    "# load pretrained model\n",
    "pretrained_model = TabNetPretrainer()\n",
    "pretrained_model.load_model(\"./models/uci_income/test_pretrain.zip\")"
   ]
  },
  {
   "cell_type": "code",
   "execution_count": 32,
   "metadata": {},
   "outputs": [
    {
     "name": "stdout",
     "output_type": "stream",
     "text": [
      "Device used : cuda\n"
     ]
    }
   ],
   "source": [
    "clf = TabNetClassifier(\n",
    "    optimizer_fn=torch.optim.Adam,\n",
    "    optimizer_params=dict(lr=2e-2),\n",
    "    scheduler_fn=torch.optim.lr_scheduler.StepLR,\n",
    "    scheduler_params={\"step_size\": 10, \"gamma\": 0.9},\n",
    "    mask_type=\"sparsemax\"\n",
    ")"
   ]
  },
  {
   "cell_type": "code",
   "execution_count": 33,
   "metadata": {},
   "outputs": [
    {
     "name": "stderr",
     "output_type": "stream",
     "text": [
      "/opt/conda/lib/python3.9/site-packages/pytorch_tabnet/abstract_model.py:97: UserWarning: Pretraining: cat_dims changed from [] to [74, 9, 16, 16, 7, 15, 6, 5, 2, 123, 99, 96, 42]\n",
      "  warnings.warn(wrn_msg)\n",
      "/opt/conda/lib/python3.9/site-packages/pytorch_tabnet/abstract_model.py:97: UserWarning: Pretraining: cat_emb_dim changed from 1 to 3\n",
      "  warnings.warn(wrn_msg)\n",
      "/opt/conda/lib/python3.9/site-packages/pytorch_tabnet/abstract_model.py:97: UserWarning: Pretraining: cat_idxs changed from [] to [0, 1, 3, 4, 5, 6, 7, 8, 9, 10, 11, 12, 13]\n",
      "  warnings.warn(wrn_msg)\n",
      "/opt/conda/lib/python3.9/site-packages/pytorch_tabnet/abstract_model.py:97: UserWarning: Pretraining: mask_type changed from sparsemax to entmax\n",
      "  warnings.warn(wrn_msg)\n",
      "/opt/conda/lib/python3.9/site-packages/pytorch_tabnet/abstract_model.py:97: UserWarning: Pretraining: n_independent changed from 2 to 1\n",
      "  warnings.warn(wrn_msg)\n",
      "/opt/conda/lib/python3.9/site-packages/pytorch_tabnet/abstract_model.py:97: UserWarning: Pretraining: n_shared changed from 2 to 1\n",
      "  warnings.warn(wrn_msg)\n"
     ]
    },
    {
     "name": "stdout",
     "output_type": "stream",
     "text": [
      "Loading weights from unsupervised pretraining\n",
      "epoch 0  | loss: 0.48789 | train_auc: 0.85536 | valid_auc: 0.86002 |  0:00:00s\n",
      "epoch 1  | loss: 0.38762 | train_auc: 0.91058 | valid_auc: 0.90967 |  0:00:01s\n",
      "epoch 2  | loss: 0.36236 | train_auc: 0.92215 | valid_auc: 0.91854 |  0:00:02s\n",
      "epoch 3  | loss: 0.34563 | train_auc: 0.91812 | valid_auc: 0.91331 |  0:00:03s\n",
      "epoch 4  | loss: 0.33518 | train_auc: 0.90981 | valid_auc: 0.9041  |  0:00:04s\n",
      "epoch 5  | loss: 0.33178 | train_auc: 0.9249  | valid_auc: 0.91699 |  0:00:05s\n",
      "epoch 6  | loss: 0.32411 | train_auc: 0.93052 | valid_auc: 0.92273 |  0:00:06s\n",
      "epoch 7  | loss: 0.32456 | train_auc: 0.93508 | valid_auc: 0.92757 |  0:00:07s\n",
      "epoch 8  | loss: 0.3237  | train_auc: 0.93407 | valid_auc: 0.92679 |  0:00:08s\n",
      "epoch 9  | loss: 0.31775 | train_auc: 0.93565 | valid_auc: 0.92798 |  0:00:09s\n",
      "epoch 10 | loss: 0.32354 | train_auc: 0.93688 | valid_auc: 0.93003 |  0:00:10s\n",
      "epoch 11 | loss: 0.31945 | train_auc: 0.9368  | valid_auc: 0.92916 |  0:00:11s\n",
      "epoch 12 | loss: 0.31483 | train_auc: 0.93733 | valid_auc: 0.92822 |  0:00:12s\n",
      "epoch 13 | loss: 0.31454 | train_auc: 0.93742 | valid_auc: 0.92705 |  0:00:13s\n",
      "epoch 14 | loss: 0.3205  | train_auc: 0.93846 | valid_auc: 0.92855 |  0:00:14s\n",
      "epoch 15 | loss: 0.31293 | train_auc: 0.93764 | valid_auc: 0.92801 |  0:00:15s\n",
      "epoch 16 | loss: 0.31327 | train_auc: 0.93852 | valid_auc: 0.92769 |  0:00:16s\n",
      "epoch 17 | loss: 0.31045 | train_auc: 0.93815 | valid_auc: 0.92711 |  0:00:16s\n",
      "epoch 18 | loss: 0.31458 | train_auc: 0.93868 | valid_auc: 0.92761 |  0:00:17s\n",
      "epoch 19 | loss: 0.31656 | train_auc: 0.93902 | valid_auc: 0.92535 |  0:00:18s\n",
      "epoch 20 | loss: 0.30869 | train_auc: 0.94013 | valid_auc: 0.92684 |  0:00:19s\n",
      "epoch 21 | loss: 0.30691 | train_auc: 0.94038 | valid_auc: 0.92452 |  0:00:20s\n",
      "epoch 22 | loss: 0.30897 | train_auc: 0.94101 | valid_auc: 0.92521 |  0:00:21s\n",
      "epoch 23 | loss: 0.305   | train_auc: 0.9412  | valid_auc: 0.92573 |  0:00:22s\n",
      "epoch 24 | loss: 0.30434 | train_auc: 0.94069 | valid_auc: 0.9256  |  0:00:23s\n",
      "epoch 25 | loss: 0.30563 | train_auc: 0.94064 | valid_auc: 0.92507 |  0:00:24s\n",
      "epoch 26 | loss: 0.29986 | train_auc: 0.94108 | valid_auc: 0.92506 |  0:00:25s\n",
      "epoch 27 | loss: 0.30344 | train_auc: 0.94191 | valid_auc: 0.9245  |  0:00:26s\n",
      "epoch 28 | loss: 0.30496 | train_auc: 0.94194 | valid_auc: 0.92291 |  0:00:27s\n",
      "epoch 29 | loss: 0.30098 | train_auc: 0.94212 | valid_auc: 0.92584 |  0:00:27s\n",
      "epoch 30 | loss: 0.30359 | train_auc: 0.94275 | valid_auc: 0.92475 |  0:00:28s\n",
      "\n",
      "Early stopping occurred at epoch 30 with best_epoch = 10 and best_valid_auc = 0.93003\n",
      "Best weights from best epoch are automatically used!\n"
     ]
    }
   ],
   "source": [
    "clf.fit(\n",
    "    X_train=X_train,\n",
    "    y_train=y_train,\n",
    "    eval_set=[(X_train, y_train), (X_valid, y_valid)],\n",
    "    eval_name=[\"train\", \"valid\"],\n",
    "    eval_metric=[\"auc\"],\n",
    "    max_epochs=max_epochs,\n",
    "    patience=20,\n",
    "    batch_size=1024,\n",
    "    virtual_batch_size=128,\n",
    "    num_workers=0,\n",
    "    weights=1,\n",
    "    drop_last=False,\n",
    "    from_unsupervised=pretrained_model\n",
    ")"
   ]
  },
  {
   "cell_type": "code",
   "execution_count": 34,
   "metadata": {},
   "outputs": [
    {
     "data": {
      "text/plain": [
       "[<matplotlib.lines.Line2D at 0x7fc034279fa0>]"
      ]
     },
     "execution_count": 34,
     "metadata": {},
     "output_type": "execute_result"
    },
    {
     "data": {
      "image/png": "[encoded data removed]",
      "text/plain": [
       "<Figure size 640x480 with 1 Axes>"
      ]
     },
     "metadata": {},
     "output_type": "display_data"
    }
   ],
   "source": [
    "# plot losses\n",
    "plt.plot(clf.history['loss'])"
   ]
  },
  {
   "cell_type": "code",
   "execution_count": 35,
   "metadata": {},
   "outputs": [
    {
     "data": {
      "text/plain": [
       "[<matplotlib.lines.Line2D at 0x7fc044fbd400>]"
      ]
     },
     "execution_count": 35,
     "metadata": {},
     "output_type": "execute_result"
    },
    {
     "data": {
      "image/png": "[encoded data removed]",
      "text/plain": [
       "<Figure size 640x480 with 1 Axes>"
      ]
     },
     "metadata": {},
     "output_type": "display_data"
    }
   ],
   "source": [
    "# plot auc\n",
    "plt.plot(clf.history['train_auc'])\n",
    "plt.plot(clf.history['valid_auc'])"
   ]
  },
  {
   "cell_type": "code",
   "execution_count": 36,
   "metadata": {},
   "outputs": [
    {
     "data": {
      "text/plain": [
       "[<matplotlib.lines.Line2D at 0x7fc03c4c4370>]"
      ]
     },
     "execution_count": 36,
     "metadata": {},
     "output_type": "execute_result"
    },
    {
     "data": {
      "image/png": "[encoded data removed]",
      "text/plain": [
       "<Figure size 640x480 with 1 Axes>"
      ]
     },
     "metadata": {},
     "output_type": "display_data"
    }
   ],
   "source": [
    "# plot learning rates\n",
    "plt.plot(clf.history['lr'])"
   ]
  },
  {
   "cell_type": "markdown",
   "metadata": {},
   "source": [
    "### Prediction"
   ]
  },
  {
   "cell_type": "code",
   "execution_count": 37,
   "metadata": {},
   "outputs": [
    {
     "name": "stdout",
     "output_type": "stream",
     "text": [
      "BEST VALID SCORE FOR UCI Income dataset : 0.930027841467409\n",
      "FINAL TEST SCORE FOR UCI Income dataset : 0.9275532658021042\n"
     ]
    }
   ],
   "source": [
    "preds = clf.predict_proba(X_test)\n",
    "test_auc = roc_auc_score(y_score=preds[:,1], y_true=y_test)\n",
    "\n",
    "\n",
    "preds_valid = clf.predict_proba(X_valid)\n",
    "valid_auc = roc_auc_score(y_score=preds_valid[:,1], y_true=y_valid)\n",
    "\n",
    "print(f\"BEST VALID SCORE FOR {dataset_name} : {clf.best_cost}\")\n",
    "print(f\"FINAL TEST SCORE FOR {dataset_name} : {test_auc}\")"
   ]
  },
  {
   "cell_type": "code",
   "execution_count": 38,
   "metadata": {},
   "outputs": [],
   "source": [
    "# check that best weights are used\n",
    "assert np.isclose(valid_auc, np.max(clf.history['valid_auc']), atol=1e-6)"
   ]
  },
  {
   "cell_type": "markdown",
   "metadata": {},
   "source": [
    "### Save and load Model"
   ]
  },
  {
   "cell_type": "code",
   "execution_count": 39,
   "metadata": {},
   "outputs": [
    {
     "name": "stdout",
     "output_type": "stream",
     "text": [
      "Successfully saved model at ./models/uci_income/tabnet_model_test_1.zip\n"
     ]
    }
   ],
   "source": [
    "# save tabnet model\n",
    "saving_path_name = \"./models/uci_income/tabnet_model_test_1\"\n",
    "saved_filepath = clf.save_model(saving_path_name)\n"
   ]
  },
  {
   "cell_type": "code",
   "execution_count": 40,
   "metadata": {},
   "outputs": [
    {
     "name": "stdout",
     "output_type": "stream",
     "text": [
      "Device used : cuda\n",
      "Device used : cuda\n"
     ]
    }
   ],
   "source": [
    "# define new model with basic parameters and load state dict weights\n",
    "loaded_clf = TabNetClassifier()\n",
    "loaded_clf.load_model(saved_filepath)"
   ]
  },
  {
   "cell_type": "code",
   "execution_count": 41,
   "metadata": {},
   "outputs": [
    {
     "name": "stdout",
     "output_type": "stream",
     "text": [
      "FINAL TEST SCORE FOR UCI Income dataset : 0.9275532658021042\n"
     ]
    }
   ],
   "source": [
    "loaded_preds = loaded_clf.predict_proba(X_test)\n",
    "loaded_test_auc = roc_auc_score(y_score=loaded_preds[:,1], y_true=y_test)\n",
    "\n",
    "print(f\"FINAL TEST SCORE FOR {dataset_name} : {loaded_test_auc}\")"
   ]
  },
  {
   "cell_type": "code",
   "execution_count": 42,
   "metadata": {},
   "outputs": [],
   "source": [
    "assert(test_auc == loaded_test_auc)"
   ]
  }
 ],
 "metadata": {
  "kernelspec": {
   "display_name": "Python 3.9.12 ('base')",
   "language": "python",
   "name": "python3"
  },
  "language_info": {
   "codemirror_mode": {
    "name": "ipython",
    "version": 3
   },
   "file_extension": ".py",
   "mimetype": "text/x-python",
   "name": "python",
   "nbconvert_exporter": "python",
   "pygments_lexer": "ipython3",
   "version": "3.9.12"
  },
  "orig_nbformat": 4,
  "vscode": {
   "interpreter": {
    "hash": "d4d1e4263499bec80672ea0156c357c1ee493ec2b1c70f0acce89fc37c4a6abe"
   }
  }
 },
 "nbformat": 4,
 "nbformat_minor": 2
}
