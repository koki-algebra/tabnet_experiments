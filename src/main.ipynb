{
 "cells": [
  {
   "cell_type": "code",
   "execution_count": 1,
   "metadata": {},
   "outputs": [],
   "source": [
    "import os\n",
    "import torch\n",
    "import numpy as np\n",
    "from sklearn.metrics import roc_auc_score\n",
    "import matplotlib.pyplot as plt\n",
    "%matplotlib inline\n",
    "\n",
    "from pytorch_tabnet.pretraining import TabNetPretrainer\n",
    "from pytorch_tabnet.tab_model import TabNetClassifier\n",
    "\n",
    "from utils import get_dataset"
   ]
  },
  {
   "cell_type": "code",
   "execution_count": 2,
   "metadata": {},
   "outputs": [],
   "source": [
    "# get dataset, categorical indices, dimensions\n",
    "dataset, cat_idxs, cat_dims = get_dataset(dataset_path=\"./data/uci_income/adult.csv\", target=\"salary\", train_size=0.8)\n",
    "dataset_name = \"UCI Income dataset\""
   ]
  },
  {
   "cell_type": "code",
   "execution_count": 3,
   "metadata": {},
   "outputs": [],
   "source": [
    "X_train: np.ndarray\n",
    "y_train: np.ndarray\n",
    "X_valid: np.ndarray\n",
    "y_valid: np.ndarray\n",
    "X_test: np.ndarray\n",
    "y_test: np.ndarray\n",
    "\n",
    "X_train, y_train = dataset[\"train\"]\n",
    "X_valid, y_valid = dataset[\"valid\"]\n",
    "X_test,  y_test  = dataset[\"test\"]"
   ]
  },
  {
   "cell_type": "markdown",
   "metadata": {},
   "source": [
    "### Network parameters"
   ]
  },
  {
   "cell_type": "code",
   "execution_count": 4,
   "metadata": {},
   "outputs": [
    {
     "name": "stdout",
     "output_type": "stream",
     "text": [
      "Device used : cuda\n"
     ]
    }
   ],
   "source": [
    "unsupervised_model = TabNetPretrainer(\n",
    "    cat_idxs=cat_idxs,\n",
    "    cat_dims=cat_dims,\n",
    "    cat_emb_dim=3,\n",
    "    optimizer_fn=torch.optim.Adam,\n",
    "    optimizer_params=dict(lr=2e-2),\n",
    "    mask_type=\"entmax\", # sparsemax\n",
    "    n_shared=1,\n",
    "    n_independent=1\n",
    ")"
   ]
  },
  {
   "cell_type": "markdown",
   "metadata": {},
   "source": [
    "### Self-Supervised Learning"
   ]
  },
  {
   "cell_type": "code",
   "execution_count": 5,
   "metadata": {},
   "outputs": [
    {
     "name": "stdout",
     "output_type": "stream",
     "text": [
      "epoch 0  | loss: 2.90555 | val_0_unsup_loss: 1.32204 |  0:00:00s\n",
      "epoch 1  | loss: 1.1561  | val_0_unsup_loss: 1.11431 |  0:00:01s\n",
      "epoch 2  | loss: 1.09074 | val_0_unsup_loss: 1.07124 |  0:00:01s\n",
      "epoch 3  | loss: 1.07536 | val_0_unsup_loss: 1.0386  |  0:00:02s\n",
      "epoch 4  | loss: 1.06348 | val_0_unsup_loss: 1.00973 |  0:00:02s\n",
      "epoch 5  | loss: 1.05255 | val_0_unsup_loss: 0.9809  |  0:00:03s\n",
      "epoch 6  | loss: 1.03482 | val_0_unsup_loss: 0.94469 |  0:00:04s\n",
      "epoch 7  | loss: 1.01406 | val_0_unsup_loss: 0.89858 |  0:00:04s\n",
      "epoch 8  | loss: 0.98273 | val_0_unsup_loss: 0.85339 |  0:00:05s\n",
      "epoch 9  | loss: 0.95383 | val_0_unsup_loss: 0.8136  |  0:00:05s\n",
      "epoch 10 | loss: 0.9293  | val_0_unsup_loss: 0.79018 |  0:00:06s\n",
      "epoch 11 | loss: 0.90196 | val_0_unsup_loss: 0.77768 |  0:00:06s\n",
      "epoch 12 | loss: 0.8887  | val_0_unsup_loss: 0.77217 |  0:00:07s\n",
      "epoch 13 | loss: 0.87733 | val_0_unsup_loss: 0.76654 |  0:00:07s\n",
      "epoch 14 | loss: 0.86926 | val_0_unsup_loss: 0.76174 |  0:00:08s\n",
      "epoch 15 | loss: 0.8605  | val_0_unsup_loss: 0.75534 |  0:00:08s\n",
      "epoch 16 | loss: 0.85527 | val_0_unsup_loss: 0.75568 |  0:00:09s\n",
      "epoch 17 | loss: 0.85493 | val_0_unsup_loss: 0.74879 |  0:00:09s\n",
      "epoch 18 | loss: 0.84853 | val_0_unsup_loss: 0.74724 |  0:00:10s\n",
      "epoch 19 | loss: 0.84223 | val_0_unsup_loss: 0.73842 |  0:00:10s\n",
      "epoch 20 | loss: 0.83708 | val_0_unsup_loss: 0.73115 |  0:00:11s\n",
      "epoch 21 | loss: 0.83258 | val_0_unsup_loss: 0.73194 |  0:00:12s\n",
      "epoch 22 | loss: 0.82985 | val_0_unsup_loss: 0.70887 |  0:00:12s\n",
      "epoch 23 | loss: 0.82085 | val_0_unsup_loss: 0.7008  |  0:00:13s\n",
      "epoch 24 | loss: 0.8137  | val_0_unsup_loss: 0.69327 |  0:00:13s\n",
      "epoch 25 | loss: 0.80977 | val_0_unsup_loss: 0.67528 |  0:00:14s\n",
      "epoch 26 | loss: 0.80148 | val_0_unsup_loss: 0.66618 |  0:00:14s\n",
      "epoch 27 | loss: 0.79782 | val_0_unsup_loss: 0.64885 |  0:00:15s\n",
      "epoch 28 | loss: 0.79205 | val_0_unsup_loss: 0.64173 |  0:00:15s\n",
      "epoch 29 | loss: 0.78496 | val_0_unsup_loss: 0.63472 |  0:00:16s\n",
      "epoch 30 | loss: 0.78027 | val_0_unsup_loss: 0.62527 |  0:00:16s\n",
      "epoch 31 | loss: 0.77336 | val_0_unsup_loss: 0.61419 |  0:00:17s\n",
      "epoch 32 | loss: 0.76752 | val_0_unsup_loss: 0.60352 |  0:00:17s\n",
      "epoch 33 | loss: 0.76272 | val_0_unsup_loss: 0.60229 |  0:00:18s\n",
      "epoch 34 | loss: 0.75444 | val_0_unsup_loss: 0.58018 |  0:00:18s\n",
      "epoch 35 | loss: 0.7498  | val_0_unsup_loss: 0.59152 |  0:00:19s\n",
      "epoch 36 | loss: 0.74642 | val_0_unsup_loss: 0.57929 |  0:00:19s\n",
      "epoch 37 | loss: 0.7417  | val_0_unsup_loss: 0.57876 |  0:00:20s\n",
      "epoch 38 | loss: 0.73454 | val_0_unsup_loss: 0.5751  |  0:00:20s\n",
      "epoch 39 | loss: 0.7247  | val_0_unsup_loss: 0.5578  |  0:00:21s\n",
      "epoch 40 | loss: 0.71567 | val_0_unsup_loss: 0.54918 |  0:00:21s\n",
      "epoch 41 | loss: 0.70974 | val_0_unsup_loss: 0.54046 |  0:00:22s\n",
      "epoch 42 | loss: 0.70261 | val_0_unsup_loss: 0.52677 |  0:00:22s\n",
      "epoch 43 | loss: 0.70012 | val_0_unsup_loss: 0.52046 |  0:00:23s\n",
      "epoch 44 | loss: 0.69837 | val_0_unsup_loss: 0.52116 |  0:00:23s\n",
      "epoch 45 | loss: 0.69751 | val_0_unsup_loss: 0.51418 |  0:00:24s\n",
      "epoch 46 | loss: 0.696   | val_0_unsup_loss: 0.50423 |  0:00:24s\n",
      "epoch 47 | loss: 0.69084 | val_0_unsup_loss: 0.50373 |  0:00:25s\n",
      "epoch 48 | loss: 0.68776 | val_0_unsup_loss: 0.49355 |  0:00:25s\n",
      "epoch 49 | loss: 0.68921 | val_0_unsup_loss: 0.49951 |  0:00:26s\n",
      "epoch 50 | loss: 0.68442 | val_0_unsup_loss: 0.50542 |  0:00:27s\n",
      "epoch 51 | loss: 0.68241 | val_0_unsup_loss: 0.47573 |  0:00:27s\n",
      "epoch 52 | loss: 0.68094 | val_0_unsup_loss: 0.47562 |  0:00:28s\n",
      "epoch 53 | loss: 0.67333 | val_0_unsup_loss: 0.47851 |  0:00:28s\n",
      "epoch 54 | loss: 0.67156 | val_0_unsup_loss: 0.48325 |  0:00:29s\n",
      "epoch 55 | loss: 0.6735  | val_0_unsup_loss: 0.47897 |  0:00:29s\n",
      "epoch 56 | loss: 0.66833 | val_0_unsup_loss: 0.46984 |  0:00:30s\n",
      "epoch 57 | loss: 0.66453 | val_0_unsup_loss: 0.45785 |  0:00:30s\n",
      "epoch 58 | loss: 0.66808 | val_0_unsup_loss: 0.46019 |  0:00:31s\n",
      "epoch 59 | loss: 0.66249 | val_0_unsup_loss: 0.45244 |  0:00:31s\n",
      "epoch 60 | loss: 0.66387 | val_0_unsup_loss: 0.44659 |  0:00:32s\n",
      "epoch 61 | loss: 0.66089 | val_0_unsup_loss: 0.46502 |  0:00:32s\n",
      "epoch 62 | loss: 0.66199 | val_0_unsup_loss: 0.4711  |  0:00:33s\n",
      "epoch 63 | loss: 0.65946 | val_0_unsup_loss: 0.46337 |  0:00:33s\n",
      "epoch 64 | loss: 0.65604 | val_0_unsup_loss: 0.43684 |  0:00:34s\n",
      "epoch 65 | loss: 0.65696 | val_0_unsup_loss: 0.45057 |  0:00:34s\n",
      "epoch 66 | loss: 0.65307 | val_0_unsup_loss: 0.44074 |  0:00:35s\n",
      "epoch 67 | loss: 0.65171 | val_0_unsup_loss: 0.4393  |  0:00:35s\n",
      "epoch 68 | loss: 0.64951 | val_0_unsup_loss: 0.43819 |  0:00:36s\n",
      "epoch 69 | loss: 0.64875 | val_0_unsup_loss: 0.44375 |  0:00:36s\n",
      "\n",
      "Early stopping occurred at epoch 69 with best_epoch = 64 and best_val_0_unsup_loss = 0.43684\n",
      "Best weights from best epoch are automatically used!\n"
     ]
    }
   ],
   "source": [
    "max_epochs = 1000 if not os.getenv(\"CI\", False) else 2\n",
    "\n",
    "unsupervised_model.fit(\n",
    "    X_train=X_train,\n",
    "    eval_set=[X_valid],\n",
    "    max_epochs=max_epochs,\n",
    "    patience=5,\n",
    "    batch_size=2048,\n",
    "    virtual_batch_size=128,\n",
    "    num_workers=0,\n",
    "    drop_last=False,\n",
    "    pretraining_ratio=0.8\n",
    ")"
   ]
  },
  {
   "cell_type": "code",
   "execution_count": 6,
   "metadata": {},
   "outputs": [],
   "source": [
    "# Make reconstruction from a dataset\n",
    "reconstructed_X, embedded_X = unsupervised_model.predict(X_valid)\n",
    "assert(reconstructed_X.shape == embedded_X.shape)"
   ]
  },
  {
   "cell_type": "code",
   "execution_count": 7,
   "metadata": {},
   "outputs": [],
   "source": [
    "unsupervised_explain_matrix, unsupervised_masks = unsupervised_model.explain(X_valid)"
   ]
  },
  {
   "cell_type": "markdown",
   "metadata": {},
   "source": [
    "### Save model"
   ]
  },
  {
   "cell_type": "code",
   "execution_count": 8,
   "metadata": {},
   "outputs": [
    {
     "name": "stdout",
     "output_type": "stream",
     "text": [
      "Successfully saved model at ./models/uci_income/test_pretrain.zip\n"
     ]
    },
    {
     "data": {
      "text/plain": [
       "'./models/uci_income/test_pretrain.zip'"
      ]
     },
     "execution_count": 8,
     "metadata": {},
     "output_type": "execute_result"
    }
   ],
   "source": [
    "# save model\n",
    "unsupervised_model.save_model('./models/uci_income/test_pretrain')"
   ]
  },
  {
   "cell_type": "code",
   "execution_count": 9,
   "metadata": {},
   "outputs": [
    {
     "name": "stdout",
     "output_type": "stream",
     "text": [
      "Device used : cuda\n",
      "Device used : cuda\n"
     ]
    }
   ],
   "source": [
    "# load pretrained model\n",
    "pretrained_model = TabNetPretrainer()\n",
    "pretrained_model.load_model(\"./models/uci_income/test_pretrain.zip\")"
   ]
  },
  {
   "cell_type": "markdown",
   "metadata": {},
   "source": [
    "### Supvervised Learning"
   ]
  },
  {
   "cell_type": "code",
   "execution_count": 10,
   "metadata": {},
   "outputs": [
    {
     "name": "stdout",
     "output_type": "stream",
     "text": [
      "Device used : cuda\n"
     ]
    }
   ],
   "source": [
    "clf = TabNetClassifier(\n",
    "    optimizer_fn=torch.optim.Adam,\n",
    "    optimizer_params=dict(lr=2e-2),\n",
    "    scheduler_fn=torch.optim.lr_scheduler.StepLR,\n",
    "    scheduler_params={\"step_size\": 10, \"gamma\": 0.9},\n",
    "    mask_type=\"sparsemax\"\n",
    ")"
   ]
  },
  {
   "cell_type": "code",
   "execution_count": 11,
   "metadata": {},
   "outputs": [
    {
     "name": "stdout",
     "output_type": "stream",
     "text": [
      "Loading weights from unsupervised pretraining\n"
     ]
    },
    {
     "name": "stderr",
     "output_type": "stream",
     "text": [
      "/opt/conda/lib/python3.9/site-packages/pytorch_tabnet/abstract_model.py:97: UserWarning: Pretraining: cat_dims changed from [] to [74, 9, 16, 16, 7, 15, 6, 5, 2, 123, 99, 96, 42]\n",
      "  warnings.warn(wrn_msg)\n",
      "/opt/conda/lib/python3.9/site-packages/pytorch_tabnet/abstract_model.py:97: UserWarning: Pretraining: cat_emb_dim changed from 1 to 3\n",
      "  warnings.warn(wrn_msg)\n",
      "/opt/conda/lib/python3.9/site-packages/pytorch_tabnet/abstract_model.py:97: UserWarning: Pretraining: cat_idxs changed from [] to [0, 1, 3, 4, 5, 6, 7, 8, 9, 10, 11, 12, 13]\n",
      "  warnings.warn(wrn_msg)\n",
      "/opt/conda/lib/python3.9/site-packages/pytorch_tabnet/abstract_model.py:97: UserWarning: Pretraining: mask_type changed from sparsemax to entmax\n",
      "  warnings.warn(wrn_msg)\n",
      "/opt/conda/lib/python3.9/site-packages/pytorch_tabnet/abstract_model.py:97: UserWarning: Pretraining: n_independent changed from 2 to 1\n",
      "  warnings.warn(wrn_msg)\n",
      "/opt/conda/lib/python3.9/site-packages/pytorch_tabnet/abstract_model.py:97: UserWarning: Pretraining: n_shared changed from 2 to 1\n",
      "  warnings.warn(wrn_msg)\n"
     ]
    },
    {
     "name": "stdout",
     "output_type": "stream",
     "text": [
      "epoch 0  | loss: 0.472   | train_auc: 0.89133 | valid_auc: 0.89367 |  0:00:01s\n",
      "epoch 1  | loss: 0.36451 | train_auc: 0.91662 | valid_auc: 0.91767 |  0:00:02s\n",
      "epoch 2  | loss: 0.34795 | train_auc: 0.9233  | valid_auc: 0.92114 |  0:00:03s\n",
      "epoch 3  | loss: 0.33462 | train_auc: 0.91994 | valid_auc: 0.91908 |  0:00:04s\n",
      "epoch 4  | loss: 0.33219 | train_auc: 0.92927 | valid_auc: 0.92714 |  0:00:05s\n",
      "epoch 5  | loss: 0.33186 | train_auc: 0.92727 | valid_auc: 0.92456 |  0:00:06s\n",
      "epoch 6  | loss: 0.32336 | train_auc: 0.93383 | valid_auc: 0.93037 |  0:00:06s\n",
      "epoch 7  | loss: 0.32404 | train_auc: 0.93509 | valid_auc: 0.93157 |  0:00:07s\n",
      "epoch 8  | loss: 0.32729 | train_auc: 0.9354  | valid_auc: 0.93332 |  0:00:08s\n",
      "epoch 9  | loss: 0.32321 | train_auc: 0.93551 | valid_auc: 0.93296 |  0:00:09s\n",
      "epoch 10 | loss: 0.32139 | train_auc: 0.93734 | valid_auc: 0.93323 |  0:00:10s\n",
      "epoch 11 | loss: 0.31702 | train_auc: 0.9376  | valid_auc: 0.9331  |  0:00:11s\n",
      "epoch 12 | loss: 0.31682 | train_auc: 0.93738 | valid_auc: 0.93161 |  0:00:12s\n",
      "epoch 13 | loss: 0.31403 | train_auc: 0.938   | valid_auc: 0.93217 |  0:00:13s\n",
      "epoch 14 | loss: 0.31218 | train_auc: 0.93753 | valid_auc: 0.93332 |  0:00:14s\n",
      "epoch 15 | loss: 0.31583 | train_auc: 0.93808 | valid_auc: 0.93239 |  0:00:15s\n",
      "epoch 16 | loss: 0.31474 | train_auc: 0.93903 | valid_auc: 0.93193 |  0:00:16s\n",
      "epoch 17 | loss: 0.31273 | train_auc: 0.93914 | valid_auc: 0.93162 |  0:00:17s\n",
      "epoch 18 | loss: 0.31592 | train_auc: 0.9391  | valid_auc: 0.93188 |  0:00:18s\n",
      "epoch 19 | loss: 0.31696 | train_auc: 0.93964 | valid_auc: 0.93096 |  0:00:19s\n",
      "epoch 20 | loss: 0.30555 | train_auc: 0.94004 | valid_auc: 0.93153 |  0:00:19s\n",
      "epoch 21 | loss: 0.31104 | train_auc: 0.94036 | valid_auc: 0.92945 |  0:00:20s\n",
      "epoch 22 | loss: 0.30746 | train_auc: 0.94016 | valid_auc: 0.93052 |  0:00:21s\n",
      "epoch 23 | loss: 0.30835 | train_auc: 0.941   | valid_auc: 0.93106 |  0:00:22s\n",
      "epoch 24 | loss: 0.30498 | train_auc: 0.94095 | valid_auc: 0.93036 |  0:00:23s\n",
      "epoch 25 | loss: 0.30549 | train_auc: 0.94114 | valid_auc: 0.93108 |  0:00:24s\n",
      "epoch 26 | loss: 0.30275 | train_auc: 0.94125 | valid_auc: 0.93137 |  0:00:25s\n",
      "epoch 27 | loss: 0.30537 | train_auc: 0.94171 | valid_auc: 0.93096 |  0:00:26s\n",
      "epoch 28 | loss: 0.29728 | train_auc: 0.94232 | valid_auc: 0.93093 |  0:00:27s\n",
      "epoch 29 | loss: 0.30319 | train_auc: 0.9422  | valid_auc: 0.9312  |  0:00:27s\n",
      "epoch 30 | loss: 0.3008  | train_auc: 0.9427  | valid_auc: 0.92985 |  0:00:28s\n",
      "epoch 31 | loss: 0.29691 | train_auc: 0.94322 | valid_auc: 0.92924 |  0:00:29s\n",
      "epoch 32 | loss: 0.30171 | train_auc: 0.94318 | valid_auc: 0.92796 |  0:00:30s\n",
      "epoch 33 | loss: 0.3005  | train_auc: 0.94297 | valid_auc: 0.92807 |  0:00:31s\n",
      "epoch 34 | loss: 0.3018  | train_auc: 0.943   | valid_auc: 0.92837 |  0:00:32s\n",
      "\n",
      "Early stopping occurred at epoch 34 with best_epoch = 14 and best_valid_auc = 0.93332\n",
      "Best weights from best epoch are automatically used!\n"
     ]
    }
   ],
   "source": [
    "clf.fit(\n",
    "    X_train=X_train,\n",
    "    y_train=y_train,\n",
    "    eval_set=[(X_train, y_train), (X_valid, y_valid)],\n",
    "    eval_name=[\"train\", \"valid\"],\n",
    "    eval_metric=[\"auc\"],\n",
    "    max_epochs=max_epochs,\n",
    "    patience=20,\n",
    "    batch_size=1024,\n",
    "    virtual_batch_size=128,\n",
    "    num_workers=0,\n",
    "    weights=1,\n",
    "    drop_last=False,\n",
    "    from_unsupervised=pretrained_model\n",
    ")"
   ]
  },
  {
   "cell_type": "code",
   "execution_count": 12,
   "metadata": {},
   "outputs": [
    {
     "data": {
      "text/plain": [
       "[<matplotlib.lines.Line2D at 0x7f2ee416fe50>]"
      ]
     },
     "execution_count": 12,
     "metadata": {},
     "output_type": "execute_result"
    },
    {
     "data": {
      "image/png": "[encoded data removed]",
      "text/plain": [
       "<Figure size 640x480 with 1 Axes>"
      ]
     },
     "metadata": {},
     "output_type": "display_data"
    }
   ],
   "source": [
    "# plot losses\n",
    "plt.plot(clf.history['loss'])"
   ]
  },
  {
   "cell_type": "code",
   "execution_count": 13,
   "metadata": {},
   "outputs": [
    {
     "data": {
      "text/plain": [
       "[<matplotlib.lines.Line2D at 0x7f2ee412ec40>]"
      ]
     },
     "execution_count": 13,
     "metadata": {},
     "output_type": "execute_result"
    },
    {
     "data": {
      "image/png": "[encoded data removed]",
      "text/plain": [
       "<Figure size 640x480 with 1 Axes>"
      ]
     },
     "metadata": {},
     "output_type": "display_data"
    }
   ],
   "source": [
    "# plot auc\n",
    "plt.plot(clf.history['train_auc'])\n",
    "plt.plot(clf.history['valid_auc'])"
   ]
  },
  {
   "cell_type": "code",
   "execution_count": 14,
   "metadata": {},
   "outputs": [
    {
     "data": {
      "text/plain": [
       "[<matplotlib.lines.Line2D at 0x7f2ee4093c10>]"
      ]
     },
     "execution_count": 14,
     "metadata": {},
     "output_type": "execute_result"
    },
    {
     "data": {
      "image/png": "[encoded data removed]",
      "text/plain": [
       "<Figure size 640x480 with 1 Axes>"
      ]
     },
     "metadata": {},
     "output_type": "display_data"
    }
   ],
   "source": [
    "# plot learning rates\n",
    "plt.plot(clf.history['lr'])"
   ]
  },
  {
   "cell_type": "markdown",
   "metadata": {},
   "source": [
    "### Prediction"
   ]
  },
  {
   "cell_type": "code",
   "execution_count": 15,
   "metadata": {},
   "outputs": [
    {
     "name": "stdout",
     "output_type": "stream",
     "text": [
      "BEST VALID SCORE FOR UCI Income dataset : 0.933317148692132\n",
      "FINAL TEST SCORE FOR UCI Income dataset : 0.9244370729681779\n"
     ]
    }
   ],
   "source": [
    "preds = clf.predict_proba(X_test)\n",
    "test_auc = roc_auc_score(y_score=preds[:,1], y_true=y_test)\n",
    "\n",
    "\n",
    "preds_valid = clf.predict_proba(X_valid)\n",
    "valid_auc = roc_auc_score(y_score=preds_valid[:,1], y_true=y_valid)\n",
    "\n",
    "print(f\"BEST VALID SCORE FOR {dataset_name} : {clf.best_cost}\")\n",
    "print(f\"FINAL TEST SCORE FOR {dataset_name} : {test_auc}\")"
   ]
  },
  {
   "cell_type": "code",
   "execution_count": 16,
   "metadata": {},
   "outputs": [],
   "source": [
    "# check that best weights are used\n",
    "assert np.isclose(valid_auc, np.max(clf.history['valid_auc']), atol=1e-6)"
   ]
  },
  {
   "cell_type": "markdown",
   "metadata": {},
   "source": [
    "### Save and load Model"
   ]
  },
  {
   "cell_type": "code",
   "execution_count": 17,
   "metadata": {},
   "outputs": [
    {
     "name": "stdout",
     "output_type": "stream",
     "text": [
      "Successfully saved model at ./models/uci_income/tabnet_model_test_1.zip\n"
     ]
    }
   ],
   "source": [
    "# save tabnet model\n",
    "saving_path_name = \"./models/uci_income/tabnet_model_test_1\"\n",
    "saved_filepath = clf.save_model(saving_path_name)\n"
   ]
  },
  {
   "cell_type": "code",
   "execution_count": 18,
   "metadata": {},
   "outputs": [
    {
     "name": "stdout",
     "output_type": "stream",
     "text": [
      "Device used : cuda\n",
      "Device used : cuda\n"
     ]
    }
   ],
   "source": [
    "# define new model with basic parameters and load state dict weights\n",
    "loaded_clf = TabNetClassifier()\n",
    "loaded_clf.load_model(saved_filepath)"
   ]
  },
  {
   "cell_type": "code",
   "execution_count": 19,
   "metadata": {},
   "outputs": [
    {
     "name": "stdout",
     "output_type": "stream",
     "text": [
      "FINAL TEST SCORE FOR UCI Income dataset : 0.9244370729681779\n"
     ]
    }
   ],
   "source": [
    "loaded_preds = loaded_clf.predict_proba(X_test)\n",
    "loaded_test_auc = roc_auc_score(y_score=loaded_preds[:,1], y_true=y_test)\n",
    "\n",
    "print(f\"FINAL TEST SCORE FOR {dataset_name} : {loaded_test_auc}\")"
   ]
  },
  {
   "cell_type": "code",
   "execution_count": 20,
   "metadata": {},
   "outputs": [],
   "source": [
    "assert(test_auc == loaded_test_auc)"
   ]
  }
 ],
 "metadata": {
  "kernelspec": {
   "display_name": "Python 3.9.12 ('base')",
   "language": "python",
   "name": "python3"
  },
  "language_info": {
   "codemirror_mode": {
    "name": "ipython",
    "version": 3
   },
   "file_extension": ".py",
   "mimetype": "text/x-python",
   "name": "python",
   "nbconvert_exporter": "python",
   "pygments_lexer": "ipython3",
   "version": "3.9.12"
  },
  "orig_nbformat": 4,
  "vscode": {
   "interpreter": {
    "hash": "d4d1e4263499bec80672ea0156c357c1ee493ec2b1c70f0acce89fc37c4a6abe"
   }
  }
 },
 "nbformat": 4,
 "nbformat_minor": 2
}
